{
 "cells": [
  {
   "cell_type": "markdown",
   "id": "ed494426",
   "metadata": {},
   "source": [
    "### Working Structure - Composer Layer\n",
    "\n",
    "**Author**: Ricardo Pérez Castillo\n",
    "\n",
    "**Latest update**: 2024-12-30\n",
    "\n",
    "**Version**: 6.0\n",
    "\n",
    "**Purpose**: Combine all individual sources into one file."
   ]
  },
  {
   "cell_type": "markdown",
   "id": "cb827575",
   "metadata": {},
   "source": [
    "### Individual Files Importing"
   ]
  },
  {
   "cell_type": "code",
   "execution_count": null,
   "id": "cec5d6b4",
   "metadata": {},
   "outputs": [],
   "source": [
    "# Import essential libraries for data processing and file handling\n",
    "\n",
    "import pandas as pd  # Data manipulation and analysis\n",
    "import numpy as np  # Numerical computations\n",
    "from datetime import datetime  # Date and time handling\n",
    "import os  # Operating system interface for file management\n",
    "import pathlib  # Object-oriented file path handling\n",
    "\n",
    "# Import custom configurations for date handling\n",
    "from config import current_month, current_month_text, current_year\n",
    "# `current_month`, `current_month_text`, and `current_year` are custom variables imported from a config file.\n",
    "# Example values:\n",
    "# - current_month: 1 (for January)\n",
    "# - current_month_text: \"January\"\n",
    "# - current_year: 2024\n"
   ]
  },
  {
   "cell_type": "code",
   "execution_count": null,
   "id": "ea9a73c9",
   "metadata": {},
   "outputs": [],
   "source": [
    "# Step 1: Define the base directory for file storage\n",
    "base_dir = pathlib.Path.home() / \"Documents\" / \"Finanzas\" / \"Personal Spend\"\n",
    "# Dynamically retrieves the user's home directory and constructs the base path for financial files.\n",
    "# Example: \"C:/Users/YourUserName/OneDrive/Documents/Finanzas/Personal Spend\"\n",
    "\n",
    "# Step 2: Define the input directory for individual datasets\n",
    "input_dir = base_dir / \"02 Individual Datasets\" / str(current_year) / f\"{current_month} {current_month_text}\"\n",
    "# Constructs the path to the input directory using dynamic values for the current year and month.\n",
    "# Example: \"C:/Users/YourUserName/OneDrive/Documents/Finanzas/Personal Spend/02 Individual Datasets/2024/1 January\"\n",
    "\n",
    "# Step 3: Define the output directory for the consolidated dataset\n",
    "output_dir = base_dir / \"03 Consolidated Dataset\" / str(current_year) / f\"{current_month} {current_month_text}\"\n",
    "# Constructs the path to the output directory for storing the consolidated dataset.\n",
    "# Example: \"C:/Users/YourUserName/OneDrive/Documents/Finanzas/Personal Spend/03 Consolidated Dataset/2024/1 January\"\n",
    "\n",
    "# Step 4: Define the output file path and name\n",
    "output_file = output_dir / f'df-nocat-spendcube-{current_month_text}{str(current_year)}.xlsx'\n",
    "# Constructs the full path and file name for the output Excel file.\n",
    "# Example: \"C:/Users/YourUserName/OneDrive/Documents/Finanzas/Personal Spend/03 Consolidated Dataset/2024/1 January/df-nocat-spendcube-January2024.xlsx\"\n",
    "\n",
    "# Step 5: Print the paths\n",
    "print(\"Input directory: \", input_dir)\n",
    "print(\"Output directory: \", output_dir)\n",
    "print(\"Output file: \", output_file)\n"
   ]
  },
  {
   "cell_type": "code",
   "execution_count": null,
   "id": "715a17a4",
   "metadata": {},
   "outputs": [],
   "source": [
    "# Step 1: Import CSV files from the input directory\n",
    "files = [f for f in input_dir.glob('*.csv')]\n",
    "# Uses pathlib's glob method to retrieve all CSV files from the input directory.\n",
    "\n",
    "# Initialize an empty DataFrame to store the consolidated data\n",
    "df_spendcube = pd.DataFrame()\n",
    "\n",
    "# Step 2: Iterate through the list of files and concatenate them into a single DataFrame\n",
    "for file in files:\n",
    "    try:\n",
    "        # Read each CSV file and append its content to the consolidated DataFrame\n",
    "        df_spendcube = pd.concat([df_spendcube, pd.read_csv(file)], ignore_index=True)\n",
    "        print(f\"Successfully imported: {file.name}\")\n",
    "    except Exception as e:\n",
    "        # Handle any errors encountered while reading a file\n",
    "        print(f\"Error reading file {file.name}: {e}\")\n"
   ]
  },
  {
   "cell_type": "code",
   "execution_count": null,
   "id": "dd2bbe15",
   "metadata": {},
   "outputs": [],
   "source": [
    "# Step 1: Remove the 'Unnamed: 0' column if it exists\n",
    "if 'Unnamed: 0' in df_spendcube.columns:\n",
    "    df_spendcube = df_spendcube.drop('Unnamed: 0', axis=1)\n",
    "    print(\"Column 'Unnamed: 0' found and removed.\")\n",
    "else:\n",
    "    print(\"No 'Unnamed: 0' column found.\")\n"
   ]
  },
  {
   "cell_type": "code",
   "execution_count": null,
   "id": "df2d5f94",
   "metadata": {},
   "outputs": [],
   "source": [
    "# Dataset visualization\n",
    "df_spendcube.head()"
   ]
  },
  {
   "cell_type": "markdown",
   "id": "f21301c4",
   "metadata": {},
   "source": [
    "### Exporting"
   ]
  },
  {
   "cell_type": "code",
   "execution_count": null,
   "id": "562962a1",
   "metadata": {},
   "outputs": [],
   "source": [
    "# Export the consolidated DataFrame to an Excel file\n",
    "try:\n",
    "    # Export the DataFrame to the specified output file path\n",
    "    df_spendcube.to_excel(output_file, index=False)\n",
    "    print(f\"File successfully exported to: {output_file}\")\n",
    "except FileNotFoundError:\n",
    "    # Handle the case where the output directory does not exist\n",
    "    print(f\"Output path not found: {output_file}\")\n",
    "except PermissionError:\n",
    "    # Handle permission issues when writing to the file\n",
    "    print(f\"Permission denied while trying to write to: {output_file}\")\n",
    "except Exception as e:\n",
    "    # Handle any other unforeseen errors during the export\n",
    "    print(f\"An unexpected error occurred while writing the file: {e}\")\n"
   ]
  }
 ],
 "metadata": {
  "kernelspec": {
   "display_name": "Python 3 (ipykernel)",
   "language": "python",
   "name": "python3"
  },
  "language_info": {
   "codemirror_mode": {
    "name": "ipython",
    "version": 3
   },
   "file_extension": ".py",
   "mimetype": "text/x-python",
   "name": "python",
   "nbconvert_exporter": "python",
   "pygments_lexer": "ipython3",
   "version": "3.12.2"
  }
 },
 "nbformat": 4,
 "nbformat_minor": 5
}
